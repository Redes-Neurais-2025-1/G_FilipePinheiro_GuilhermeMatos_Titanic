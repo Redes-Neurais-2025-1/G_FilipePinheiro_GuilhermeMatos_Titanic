{
 "cells": [
  {
   "cell_type": "code",
   "execution_count": null,
   "id": "7ab45010",
   "metadata": {},
   "outputs": [],
   "source": [
    "import pandas as pd\n",
    "import numpy as np\n",
    "import matplotlib.pyplot as plt\n",
    "from sklearn.model_selection import train_test_split\n",
    "from sklearn.preprocessing import StandardScaler, LabelEncoder\n",
    "from sklearn.metrics import classification_report, confusion_matrix, roc_curve, auc\n",
    "\n",
    "import tensorflow as tf\n",
    "from tensorflow.keras.models import Sequential\n",
    "from tensorflow.keras.layers import Dense, Dropout\n",
    "from tensorflow.keras.callbacks import EarlyStopping"
   ]
  },
  {
   "cell_type": "code",
   "execution_count": null,
   "id": "cbeb0475",
   "metadata": {},
   "outputs": [],
   "source": [
    "# 1. Carregando os dados\n",
    "df = pd.read_csv(\"titanic/train.csv\")\n",
    "\n",
    "# 2. Pré-processamento e engenharia de features\n",
    "df = df.drop([\"PassengerId\", \"Name\", \"Ticket\", \"Cabin\"], axis=1)\n",
    "df[\"Age\"].fillna(df[\"Age\"].median(), inplace=True)\n",
    "df[\"Embarked\"].fillna(df[\"Embarked\"].mode()[0], inplace=True)\n",
    "\n",
    "df[\"Sex\"] = LabelEncoder().fit_transform(df[\"Sex\"])  # Male=1, Female=0\n",
    "df = pd.get_dummies(df, columns=[\"Embarked\"], drop_first=True)\n",
    "\n",
    "X = df.drop(\"Survived\", axis=1)\n",
    "y = df[\"Survived\"]"
   ]
  }
 ],
 "metadata": {
  "kernelspec": {
   "display_name": ".venv",
   "language": "python",
   "name": "python3"
  },
  "language_info": {
   "name": "python",
   "version": "3.10.12"
  }
 },
 "nbformat": 4,
 "nbformat_minor": 5
}
