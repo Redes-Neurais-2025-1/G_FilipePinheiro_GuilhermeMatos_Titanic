{
 "cells": [
  {
   "cell_type": "code",
   "execution_count": 1,
   "id": "7ab45010",
   "metadata": {
    "scrolled": true
   },
   "outputs": [
    {
     "name": "stderr",
     "output_type": "stream",
     "text": [
      "2025-07-17 22:29:39.402646: I external/local_xla/xla/tsl/cuda/cudart_stub.cc:32] Could not find cuda drivers on your machine, GPU will not be used.\n",
      "2025-07-17 22:29:39.406352: I external/local_xla/xla/tsl/cuda/cudart_stub.cc:32] Could not find cuda drivers on your machine, GPU will not be used.\n",
      "2025-07-17 22:29:39.417686: E external/local_xla/xla/stream_executor/cuda/cuda_fft.cc:467] Unable to register cuFFT factory: Attempting to register factory for plugin cuFFT when one has already been registered\n",
      "WARNING: All log messages before absl::InitializeLog() is called are written to STDERR\n",
      "E0000 00:00:1752802179.436701  225875 cuda_dnn.cc:8579] Unable to register cuDNN factory: Attempting to register factory for plugin cuDNN when one has already been registered\n",
      "E0000 00:00:1752802179.442550  225875 cuda_blas.cc:1407] Unable to register cuBLAS factory: Attempting to register factory for plugin cuBLAS when one has already been registered\n",
      "W0000 00:00:1752802179.457664  225875 computation_placer.cc:177] computation placer already registered. Please check linkage and avoid linking the same target more than once.\n",
      "W0000 00:00:1752802179.457690  225875 computation_placer.cc:177] computation placer already registered. Please check linkage and avoid linking the same target more than once.\n",
      "W0000 00:00:1752802179.457692  225875 computation_placer.cc:177] computation placer already registered. Please check linkage and avoid linking the same target more than once.\n",
      "W0000 00:00:1752802179.457693  225875 computation_placer.cc:177] computation placer already registered. Please check linkage and avoid linking the same target more than once.\n",
      "2025-07-17 22:29:39.462749: I tensorflow/core/platform/cpu_feature_guard.cc:210] This TensorFlow binary is optimized to use available CPU instructions in performance-critical operations.\n",
      "To enable the following instructions: AVX2 FMA, in other operations, rebuild TensorFlow with the appropriate compiler flags.\n"
     ]
    }
   ],
   "source": [
    "import pandas as pd\n",
    "import matplotlib.pyplot as plt\n",
    "from sklearn.model_selection import train_test_split\n",
    "from sklearn.preprocessing import StandardScaler, RobustScaler, MinMaxScaler\n",
    "from sklearn.metrics import classification_report, confusion_matrix, roc_curve, auc, accuracy_score\n",
    "from sklearn.ensemble import RandomForestRegressor\n",
    "from fairlearn.metrics import MetricFrame\n",
    "from tensorflow.keras.regularizers import l2\n",
    "import seaborn as sns\n",
    "\n",
    "import tensorflow as tf\n",
    "from tensorflow.keras.models import Sequential\n",
    "from tensorflow.keras.layers import Dense, Dropout\n",
    "from tensorflow.keras.callbacks import EarlyStopping"
   ]
  },
  {
   "cell_type": "markdown",
   "id": "687a1c2d-f174-4e3a-9bf0-5d3ac42e0bdd",
   "metadata": {},
   "source": [
    "# 1. Carregar conjunto de dados"
   ]
  },
  {
   "cell_type": "code",
   "execution_count": 2,
   "id": "37f11b0e-22b3-4c7c-836f-404d370ee25e",
   "metadata": {},
   "outputs": [],
   "source": [
    "## Carregando os dados\n",
    "df = pd.read_csv(\"data/train.csv\")"
   ]
  },
  {
   "cell_type": "markdown",
   "id": "5d76e93c-512a-452e-9e52-5ba3825723f5",
   "metadata": {},
   "source": [
    "# 2. Extração e tratamento de características"
   ]
  },
  {
   "cell_type": "markdown",
   "id": "f4a8e055-3a10-432c-a166-2c400fb63eb9",
   "metadata": {},
   "source": [
    "## 2.1 Criação de variável 'strata' para estratificação dos dados"
   ]
  },
  {
   "cell_type": "code",
   "execution_count": 3,
   "id": "262db5e8-8fe9-430e-9350-65af6d1af71e",
   "metadata": {},
   "outputs": [],
   "source": [
    "##Criando variável para fazer divisão ideal dos dados\n",
    "df['strata'] = df['Pclass'].astype(str) + \"_\" + \\\n",
    "               df['Survived'].astype(str)"
   ]
  },
  {
   "cell_type": "markdown",
   "id": "ed8edba7-9cd8-4472-9932-3a098f052f64",
   "metadata": {},
   "source": [
    "## 2.2 Extração de características "
   ]
  },
  {
   "cell_type": "code",
   "execution_count": 4,
   "id": "f2caa4bb-2ecd-4857-a45c-fdadc249eb6d",
   "metadata": {},
   "outputs": [],
   "source": [
    "##Engenharia de features\n",
    "#Ajuste no nome por título\n",
    "df[\"Name\"] = df[\"Name\"].str.extract(r',\\s*([^\\.]+)\\.')\n",
    "\n",
    "##Se possui cabine múltipla\n",
    "df['Cabin_Multiple'] = df['Cabin'].apply(lambda x: 0 if pd.isna(x) else len(x.split(' ')))\n",
    "df['Cabin_Multiple'] = df['Cabin_Multiple'].apply(lambda x: 0 if x == 0 else 1)\n",
    "\n",
    "##Prefixo da Cabine\n",
    "df['Cabin_Pref'] = df['Cabin'].apply(lambda x: str(x)[0])\n",
    "\n",
    "##Se o Ticket é numérico\n",
    "df['Numeric_Ticket'] = df[\"Ticket\"].apply(lambda x: 1 if x.isnumeric() else 0)\n",
    "\n",
    "##Prefixo do Ticket\n",
    "df[\"Prefix_Ticket\"] = df[\"Ticket\"].str.extract(r\"^(.*?)(?=\\s\\d)\")\n",
    "df[\"Prefix_Ticket\"] = df[\"Prefix_Ticket\"].str.strip()\n",
    "df[\"Prefix_Ticket\"] = df[\"Prefix_Ticket\"].fillna(\"n\")"
   ]
  },
  {
   "cell_type": "markdown",
   "id": "61c06bad-43ae-4aa9-a55f-f173be6f9236",
   "metadata": {},
   "source": [
    "## 2.3 Tratamento de características"
   ]
  },
  {
   "cell_type": "code",
   "execution_count": 5,
   "id": "dd939389-2828-4daf-898c-b87b056e657c",
   "metadata": {},
   "outputs": [],
   "source": [
    "##Tratamento de dados\n",
    "##Binarizando coluna 'Name'\n",
    "df = pd.get_dummies(df, columns=['Name'], prefix='Name', dtype=int)\n",
    "\n",
    "##Binarizar 'Sex'\n",
    "df['Sex'] = df['Sex'].map({'male': 1, 'female': 0})\n",
    "\n",
    "##Binarizando 'Embarked'\n",
    "df['Embarked'] = df['Embarked'].fillna(df['Embarked'].mode()[0])\n",
    "df = pd.get_dummies(df, columns=['Embarked'], prefix='Embarked', dtype=int)\n",
    "\n",
    "##Binarizando 'Cabin_Pref'\n",
    "df = pd.get_dummies(df, columns=['Cabin_Pref'], prefix='Cabin_Pref', dtype=int)\n",
    "\n",
    "##Binarizando 'Prefix_Ticket'\n",
    "df = pd.get_dummies(df, columns=['Prefix_Ticket'], prefix='Prefix_Ticket', dtype=int)"
   ]
  },
  {
   "cell_type": "code",
   "execution_count": 6,
   "id": "d389461a-ce7a-445b-bc72-37a854a2866b",
   "metadata": {},
   "outputs": [],
   "source": [
    "##Tratamento de Nulos da idade\n",
    "com_idade = df[df['Age'].notnull()]\n",
    "sem_idade = df[df['Age'].isnull()]\n",
    "\n",
    "#Baseear a escolha da idade por\n",
    "colunas_preditoras = ['Parch', 'Pclass', 'Sex', 'Cabin_Multiple', 'Fare', 'Name_Master',\n",
    " 'Name_Miss',\n",
    " 'Name_Mr',\n",
    " 'Name_Mrs']\n",
    "\n",
    "#Treino\n",
    "modelo = RandomForestRegressor()\n",
    "modelo.fit(com_idade[colunas_preditoras], com_idade['Age'])\n",
    "\n",
    "#Predict\n",
    "idades_previstas = modelo.predict(sem_idade[colunas_preditoras])\n",
    "\n",
    "#Preenchuer\n",
    "df.loc[df['Age'].isnull(), 'Age'] = idades_previstas"
   ]
  },
  {
   "cell_type": "code",
   "execution_count": 7,
   "id": "302edaa6-7557-4507-9138-05e724f24381",
   "metadata": {},
   "outputs": [],
   "source": [
    "##'Cabin'\n",
    "df = df.drop(columns = {'Cabin'})"
   ]
  },
  {
   "cell_type": "code",
   "execution_count": 8,
   "id": "9126fa55-9a57-4bcb-a65a-19771a393fd5",
   "metadata": {},
   "outputs": [
    {
     "data": {
      "text/html": [
       "<div>\n",
       "<style scoped>\n",
       "    .dataframe tbody tr th:only-of-type {\n",
       "        vertical-align: middle;\n",
       "    }\n",
       "\n",
       "    .dataframe tbody tr th {\n",
       "        vertical-align: top;\n",
       "    }\n",
       "\n",
       "    .dataframe thead th {\n",
       "        text-align: right;\n",
       "    }\n",
       "</style>\n",
       "<table border=\"1\" class=\"dataframe\">\n",
       "  <thead>\n",
       "    <tr style=\"text-align: right;\">\n",
       "      <th></th>\n",
       "      <th>strata</th>\n",
       "      <th>Pclass</th>\n",
       "      <th>Age</th>\n",
       "      <th>Parch</th>\n",
       "      <th>SibSp</th>\n",
       "      <th>Fare</th>\n",
       "      <th>Survived</th>\n",
       "      <th>Cabin_Multiple</th>\n",
       "      <th>Sex</th>\n",
       "      <th>Name_Miss</th>\n",
       "      <th>Name_Mr</th>\n",
       "      <th>Name_Mrs</th>\n",
       "      <th>Embarked_C</th>\n",
       "      <th>Embarked_S</th>\n",
       "      <th>Embarked_Q</th>\n",
       "    </tr>\n",
       "  </thead>\n",
       "  <tbody>\n",
       "    <tr>\n",
       "      <th>0</th>\n",
       "      <td>3_0</td>\n",
       "      <td>3</td>\n",
       "      <td>22.000000</td>\n",
       "      <td>0</td>\n",
       "      <td>1</td>\n",
       "      <td>7.2500</td>\n",
       "      <td>0</td>\n",
       "      <td>0</td>\n",
       "      <td>1</td>\n",
       "      <td>0</td>\n",
       "      <td>1</td>\n",
       "      <td>0</td>\n",
       "      <td>0</td>\n",
       "      <td>1</td>\n",
       "      <td>0</td>\n",
       "    </tr>\n",
       "    <tr>\n",
       "      <th>1</th>\n",
       "      <td>1_1</td>\n",
       "      <td>1</td>\n",
       "      <td>38.000000</td>\n",
       "      <td>0</td>\n",
       "      <td>1</td>\n",
       "      <td>71.2833</td>\n",
       "      <td>1</td>\n",
       "      <td>1</td>\n",
       "      <td>0</td>\n",
       "      <td>0</td>\n",
       "      <td>0</td>\n",
       "      <td>1</td>\n",
       "      <td>1</td>\n",
       "      <td>0</td>\n",
       "      <td>0</td>\n",
       "    </tr>\n",
       "    <tr>\n",
       "      <th>2</th>\n",
       "      <td>3_1</td>\n",
       "      <td>3</td>\n",
       "      <td>26.000000</td>\n",
       "      <td>0</td>\n",
       "      <td>0</td>\n",
       "      <td>7.9250</td>\n",
       "      <td>1</td>\n",
       "      <td>0</td>\n",
       "      <td>0</td>\n",
       "      <td>1</td>\n",
       "      <td>0</td>\n",
       "      <td>0</td>\n",
       "      <td>0</td>\n",
       "      <td>1</td>\n",
       "      <td>0</td>\n",
       "    </tr>\n",
       "    <tr>\n",
       "      <th>3</th>\n",
       "      <td>1_1</td>\n",
       "      <td>1</td>\n",
       "      <td>35.000000</td>\n",
       "      <td>0</td>\n",
       "      <td>1</td>\n",
       "      <td>53.1000</td>\n",
       "      <td>1</td>\n",
       "      <td>1</td>\n",
       "      <td>0</td>\n",
       "      <td>0</td>\n",
       "      <td>0</td>\n",
       "      <td>1</td>\n",
       "      <td>0</td>\n",
       "      <td>1</td>\n",
       "      <td>0</td>\n",
       "    </tr>\n",
       "    <tr>\n",
       "      <th>4</th>\n",
       "      <td>3_0</td>\n",
       "      <td>3</td>\n",
       "      <td>35.000000</td>\n",
       "      <td>0</td>\n",
       "      <td>0</td>\n",
       "      <td>8.0500</td>\n",
       "      <td>0</td>\n",
       "      <td>0</td>\n",
       "      <td>1</td>\n",
       "      <td>0</td>\n",
       "      <td>1</td>\n",
       "      <td>0</td>\n",
       "      <td>0</td>\n",
       "      <td>1</td>\n",
       "      <td>0</td>\n",
       "    </tr>\n",
       "    <tr>\n",
       "      <th>...</th>\n",
       "      <td>...</td>\n",
       "      <td>...</td>\n",
       "      <td>...</td>\n",
       "      <td>...</td>\n",
       "      <td>...</td>\n",
       "      <td>...</td>\n",
       "      <td>...</td>\n",
       "      <td>...</td>\n",
       "      <td>...</td>\n",
       "      <td>...</td>\n",
       "      <td>...</td>\n",
       "      <td>...</td>\n",
       "      <td>...</td>\n",
       "      <td>...</td>\n",
       "      <td>...</td>\n",
       "    </tr>\n",
       "    <tr>\n",
       "      <th>886</th>\n",
       "      <td>2_0</td>\n",
       "      <td>2</td>\n",
       "      <td>27.000000</td>\n",
       "      <td>0</td>\n",
       "      <td>0</td>\n",
       "      <td>13.0000</td>\n",
       "      <td>0</td>\n",
       "      <td>0</td>\n",
       "      <td>1</td>\n",
       "      <td>0</td>\n",
       "      <td>0</td>\n",
       "      <td>0</td>\n",
       "      <td>0</td>\n",
       "      <td>1</td>\n",
       "      <td>0</td>\n",
       "    </tr>\n",
       "    <tr>\n",
       "      <th>887</th>\n",
       "      <td>1_1</td>\n",
       "      <td>1</td>\n",
       "      <td>19.000000</td>\n",
       "      <td>0</td>\n",
       "      <td>0</td>\n",
       "      <td>30.0000</td>\n",
       "      <td>1</td>\n",
       "      <td>1</td>\n",
       "      <td>0</td>\n",
       "      <td>1</td>\n",
       "      <td>0</td>\n",
       "      <td>0</td>\n",
       "      <td>0</td>\n",
       "      <td>1</td>\n",
       "      <td>0</td>\n",
       "    </tr>\n",
       "    <tr>\n",
       "      <th>888</th>\n",
       "      <td>3_0</td>\n",
       "      <td>3</td>\n",
       "      <td>8.855167</td>\n",
       "      <td>2</td>\n",
       "      <td>1</td>\n",
       "      <td>23.4500</td>\n",
       "      <td>0</td>\n",
       "      <td>0</td>\n",
       "      <td>0</td>\n",
       "      <td>1</td>\n",
       "      <td>0</td>\n",
       "      <td>0</td>\n",
       "      <td>0</td>\n",
       "      <td>1</td>\n",
       "      <td>0</td>\n",
       "    </tr>\n",
       "    <tr>\n",
       "      <th>889</th>\n",
       "      <td>1_1</td>\n",
       "      <td>1</td>\n",
       "      <td>26.000000</td>\n",
       "      <td>0</td>\n",
       "      <td>0</td>\n",
       "      <td>30.0000</td>\n",
       "      <td>1</td>\n",
       "      <td>1</td>\n",
       "      <td>1</td>\n",
       "      <td>0</td>\n",
       "      <td>1</td>\n",
       "      <td>0</td>\n",
       "      <td>1</td>\n",
       "      <td>0</td>\n",
       "      <td>0</td>\n",
       "    </tr>\n",
       "    <tr>\n",
       "      <th>890</th>\n",
       "      <td>3_0</td>\n",
       "      <td>3</td>\n",
       "      <td>32.000000</td>\n",
       "      <td>0</td>\n",
       "      <td>0</td>\n",
       "      <td>7.7500</td>\n",
       "      <td>0</td>\n",
       "      <td>0</td>\n",
       "      <td>1</td>\n",
       "      <td>0</td>\n",
       "      <td>1</td>\n",
       "      <td>0</td>\n",
       "      <td>0</td>\n",
       "      <td>0</td>\n",
       "      <td>1</td>\n",
       "    </tr>\n",
       "  </tbody>\n",
       "</table>\n",
       "<p>891 rows × 15 columns</p>\n",
       "</div>"
      ],
      "text/plain": [
       "    strata  Pclass        Age  Parch  SibSp     Fare  Survived  \\\n",
       "0      3_0       3  22.000000      0      1   7.2500         0   \n",
       "1      1_1       1  38.000000      0      1  71.2833         1   \n",
       "2      3_1       3  26.000000      0      0   7.9250         1   \n",
       "3      1_1       1  35.000000      0      1  53.1000         1   \n",
       "4      3_0       3  35.000000      0      0   8.0500         0   \n",
       "..     ...     ...        ...    ...    ...      ...       ...   \n",
       "886    2_0       2  27.000000      0      0  13.0000         0   \n",
       "887    1_1       1  19.000000      0      0  30.0000         1   \n",
       "888    3_0       3   8.855167      2      1  23.4500         0   \n",
       "889    1_1       1  26.000000      0      0  30.0000         1   \n",
       "890    3_0       3  32.000000      0      0   7.7500         0   \n",
       "\n",
       "     Cabin_Multiple  Sex  Name_Miss  Name_Mr  Name_Mrs  Embarked_C  \\\n",
       "0                 0    1          0        1         0           0   \n",
       "1                 1    0          0        0         1           1   \n",
       "2                 0    0          1        0         0           0   \n",
       "3                 1    0          0        0         1           0   \n",
       "4                 0    1          0        1         0           0   \n",
       "..              ...  ...        ...      ...       ...         ...   \n",
       "886               0    1          0        0         0           0   \n",
       "887               1    0          1        0         0           0   \n",
       "888               0    0          1        0         0           0   \n",
       "889               1    1          0        1         0           1   \n",
       "890               0    1          0        1         0           0   \n",
       "\n",
       "     Embarked_S  Embarked_Q  \n",
       "0             1           0  \n",
       "1             0           0  \n",
       "2             1           0  \n",
       "3             1           0  \n",
       "4             1           0  \n",
       "..          ...         ...  \n",
       "886           1           0  \n",
       "887           1           0  \n",
       "888           1           0  \n",
       "889           0           0  \n",
       "890           0           1  \n",
       "\n",
       "[891 rows x 15 columns]"
      ]
     },
     "execution_count": 8,
     "metadata": {},
     "output_type": "execute_result"
    }
   ],
   "source": [
    "columns = ['strata', 'Pclass',\n",
    " 'Age',\n",
    " 'Parch', \n",
    " 'SibSp', \n",
    " 'Fare',\n",
    " 'Survived',\n",
    " 'Cabin_Multiple',\n",
    " 'Sex',\n",
    " 'Name_Miss',\n",
    " 'Name_Mr',\n",
    " 'Name_Mrs',\n",
    " 'Embarked_C',\n",
    " 'Embarked_S',\n",
    " 'Embarked_Q']\n",
    "\n",
    "df = df[columns]\n",
    "df"
   ]
  },
  {
   "cell_type": "code",
   "execution_count": 9,
   "id": "e1445614-e358-492d-a002-c47e825e5f6d",
   "metadata": {},
   "outputs": [
    {
     "data": {
      "text/plain": [
       "Cabin_Multiple\n",
       "0    687\n",
       "1    204\n",
       "Name: count, dtype: int64"
      ]
     },
     "execution_count": 9,
     "metadata": {},
     "output_type": "execute_result"
    }
   ],
   "source": [
    "df['Cabin_Multiple'].value_counts()"
   ]
  },
  {
   "cell_type": "code",
   "execution_count": 10,
   "id": "cb33f906-d2fb-4c21-b5f3-c22fed8f9aac",
   "metadata": {},
   "outputs": [
    {
     "name": "stdout",
     "output_type": "stream",
     "text": [
      "<class 'pandas.core.frame.DataFrame'>\n",
      "RangeIndex: 891 entries, 0 to 890\n",
      "Data columns (total 15 columns):\n",
      " #   Column          Non-Null Count  Dtype  \n",
      "---  ------          --------------  -----  \n",
      " 0   strata          891 non-null    object \n",
      " 1   Pclass          891 non-null    int64  \n",
      " 2   Age             891 non-null    float64\n",
      " 3   Parch           891 non-null    int64  \n",
      " 4   SibSp           891 non-null    int64  \n",
      " 5   Fare            891 non-null    float64\n",
      " 6   Survived        891 non-null    int64  \n",
      " 7   Cabin_Multiple  891 non-null    int64  \n",
      " 8   Sex             891 non-null    int64  \n",
      " 9   Name_Miss       891 non-null    int64  \n",
      " 10  Name_Mr         891 non-null    int64  \n",
      " 11  Name_Mrs        891 non-null    int64  \n",
      " 12  Embarked_C      891 non-null    int64  \n",
      " 13  Embarked_S      891 non-null    int64  \n",
      " 14  Embarked_Q      891 non-null    int64  \n",
      "dtypes: float64(2), int64(12), object(1)\n",
      "memory usage: 104.5+ KB\n"
     ]
    }
   ],
   "source": [
    "df.info()"
   ]
  },
  {
   "cell_type": "markdown",
   "id": "35bd5d44-9762-4f24-9f38-8d6e2fbd86ee",
   "metadata": {},
   "source": [
    "# 3. Divisão do conjunto de dados"
   ]
  },
  {
   "cell_type": "code",
   "execution_count": 11,
   "id": "5d065719-7d82-4973-99ee-9d70b912ddce",
   "metadata": {},
   "outputs": [],
   "source": [
    "# Separar X e y\n",
    "X = df.drop(columns=['Survived', 'strata'])\n",
    "y = df['Survived']\n",
    "strata = df['strata']\n",
    "\n",
    "# Etapa 1: treino (70%) e temp (30%)\n",
    "X_train, X_temp, y_train, y_temp, strata_train, strata_temp = train_test_split(\n",
    "    X, y, strata,\n",
    "    test_size=0.3,\n",
    "    stratify=strata,\n",
    "    random_state=42\n",
    ")\n",
    "\n",
    "# Etapa 2: validação (15%) e teste (15%) a partir de temp\n",
    "X_val, X_test, y_val, y_test = train_test_split(\n",
    "    X_temp, y_temp,\n",
    "    test_size=0.5,\n",
    "    stratify=strata_temp,\n",
    "    random_state=42\n",
    ")"
   ]
  },
  {
   "cell_type": "code",
   "execution_count": 12,
   "id": "40a936eb",
   "metadata": {},
   "outputs": [
    {
     "data": {
      "text/plain": [
       "Index(['Pclass', 'Age', 'Parch', 'SibSp', 'Fare', 'Cabin_Multiple', 'Sex',\n",
       "       'Name_Miss', 'Name_Mr', 'Name_Mrs', 'Embarked_C', 'Embarked_S',\n",
       "       'Embarked_Q'],\n",
       "      dtype='object')"
      ]
     },
     "execution_count": 12,
     "metadata": {},
     "output_type": "execute_result"
    }
   ],
   "source": [
    "X.columns"
   ]
  },
  {
   "cell_type": "code",
   "execution_count": 13,
   "id": "83e04a19-38fc-41be-8fa8-356d69c82e0e",
   "metadata": {},
   "outputs": [],
   "source": [
    "df_test_raw = X_test\n",
    "df_raw_train = X_train"
   ]
  },
  {
   "cell_type": "code",
   "execution_count": 14,
   "id": "6c0885f0-bfb2-426f-97cf-d72d0bd65080",
   "metadata": {},
   "outputs": [
    {
     "data": {
      "image/png": "[encoded data removed]",
      "text/plain": [
       "<Figure size 800x500 with 1 Axes>"
      ]
     },
     "metadata": {},
     "output_type": "display_data"
    }
   ],
   "source": [
    "# Criar um DataFrame auxiliar com os conjuntos e seus respectivos sexos\n",
    "def create_summary(df, name, coluna):\n",
    "    return df[coluna].value_counts(normalize=True).rename_axis(coluna).reset_index(name='Proportion').assign(Subset=name)\n",
    "\n",
    "summary_train = create_summary(X_train, 'Treino', 'Sex')\n",
    "summary_val = create_summary(X_val, 'Validação', 'Sex')\n",
    "summary_test = create_summary(X_test, 'Teste', 'Sex')\n",
    "\n",
    "# Combinar os dados em um único DataFrame\n",
    "summary_df = pd.concat([summary_train, summary_val, summary_test])\n",
    "\n",
    "# Plotar\n",
    "plt.figure(figsize=(8, 5))\n",
    "sns.barplot(data=summary_df, x='Subset', y='Proportion', hue='Sex')\n",
    "plt.title('Proporção de Sexo em Cada Subconjunto (Treino, Validação, Teste)')\n",
    "plt.ylim(0, 1)\n",
    "plt.ylabel('Proporção')\n",
    "plt.xlabel('Conjunto')\n",
    "plt.legend(title='Sexo')\n",
    "plt.tight_layout()\n",
    "plt.show()"
   ]
  },
  {
   "cell_type": "code",
   "execution_count": 15,
   "id": "6fd7f107-a5f7-4854-8d53-48b3e77d8db2",
   "metadata": {},
   "outputs": [
    {
     "data": {
      "image/png": "[encoded data removed]",
      "text/plain": [
       "<Figure size 800x500 with 1 Axes>"
      ]
     },
     "metadata": {},
     "output_type": "display_data"
    }
   ],
   "source": [
    "# Transformar as Series y_* em DataFrames com coluna nomeada\n",
    "y_train_df = y_train.to_frame(name='Survived')\n",
    "y_val_df = y_val.to_frame(name='Survived')\n",
    "y_test_df = y_test.to_frame(name='Survived')\n",
    "\n",
    "# Agora sim, aplicar a função corretamente\n",
    "summary_train = create_summary(y_train_df, 'Treino', 'Survived')\n",
    "summary_val = create_summary(y_val_df, 'Validação', 'Survived')\n",
    "summary_test = create_summary(y_test_df, 'Teste', 'Survived')\n",
    "\n",
    "# Combinar os dados em um único DataFrame\n",
    "summary_df = pd.concat([summary_train, summary_val, summary_test])\n",
    "\n",
    "# Plotar\n",
    "plt.figure(figsize=(8, 5))\n",
    "sns.barplot(data=summary_df, x='Subset', y='Proportion', hue='Survived')\n",
    "plt.title('Proporção de Sobreviventes em Cada Subconjunto (Treino, Validação, Teste)')\n",
    "plt.ylim(0, 1)\n",
    "plt.ylabel('Proporção')\n",
    "plt.xlabel('Conjunto')\n",
    "plt.legend(title='Sexo')\n",
    "plt.tight_layout()\n",
    "plt.show()"
   ]
  },
  {
   "cell_type": "markdown",
   "id": "665ac410-69e5-4258-bbc1-f5cfd3c7872a",
   "metadata": {},
   "source": [
    "# 4. Normalização"
   ]
  },
  {
   "cell_type": "code",
   "execution_count": null,
   "id": "b0cae0ce-a07b-4458-a8af-824a0ddd54fe",
   "metadata": {},
   "outputs": [],
   "source": []
  },
  {
   "cell_type": "code",
   "execution_count": 16,
   "id": "c47ce486",
   "metadata": {},
   "outputs": [],
   "source": [
    "scaler = MinMaxScaler()\n",
    "# scaler = RobustScaler()\n",
    "# scaler = StandardScaler()\n",
    "X_train = scaler.fit_transform(X_train)\n",
    "X_val = scaler.transform(X_val)\n",
    "X_test = scaler.transform(X_test)"
   ]
  },
  {
   "cell_type": "markdown",
   "id": "565cd2f7-83ad-47a8-be08-de1b122f0076",
   "metadata": {},
   "source": [
    "# 5. Treinamento"
   ]
  },
  {
   "cell_type": "code",
   "execution_count": 17,
   "id": "1332cf74",
   "metadata": {},
   "outputs": [
    {
     "name": "stderr",
     "output_type": "stream",
     "text": [
      "/home/filipe-pinheiro/anaconda3/envs/main/lib/python3.12/site-packages/keras/src/layers/core/dense.py:93: UserWarning: Do not pass an `input_shape`/`input_dim` argument to a layer. When using Sequential models, prefer using an `Input(shape)` object as the first layer in the model instead.\n",
      "  super().__init__(activity_regularizer=activity_regularizer, **kwargs)\n",
      "E0000 00:00:1752802181.424724  225875 cuda_executor.cc:1228] INTERNAL: CUDA Runtime error: Failed call to cudaGetRuntimeVersion: Error loading CUDA libraries. GPU will not be used.: Error loading CUDA libraries. GPU will not be used.\n",
      "W0000 00:00:1752802181.425421  225875 gpu_device.cc:2341] Cannot dlopen some GPU libraries. Please make sure the missing libraries mentioned above are installed properly if you would like to use GPU. Follow the guide at https://www.tensorflow.org/install/gpu for how to download and setup the required libraries for your platform.\n",
      "Skipping registering GPU devices...\n"
     ]
    }
   ],
   "source": [
    "##Modelo MLP\n",
    "model = Sequential([\n",
    "    Dense(32, input_dim=X_train.shape[1], activation='relu', kernel_regularizer=l2(0.01)),\n",
    "    Dense(32, activation='relu', kernel_regularizer=l2(0.01)),\n",
    "    Dense(1, activation='sigmoid', kernel_regularizer=l2(0.01))\n",
    "])\n",
    "\n",
    "model.compile(optimizer='adam', loss='binary_crossentropy', metrics=['accuracy'])"
   ]
  },
  {
   "cell_type": "code",
   "execution_count": null,
   "id": "48cdf2dd",
   "metadata": {},
   "outputs": [
    {
     "name": "stdout",
     "output_type": "stream",
     "text": [
      "Epoch 1/300\n",
      "\u001b[1m20/20\u001b[0m \u001b[32m━━━━━━━━━━━━━━━━━━━━\u001b[0m\u001b[37m\u001b[0m \u001b[1m1s\u001b[0m 11ms/step - accuracy: 0.4527 - loss: 1.2253 - val_accuracy: 0.6866 - val_loss: 1.0986\n",
      "Epoch 2/300\n",
      "\u001b[1m20/20\u001b[0m \u001b[32m━━━━━━━━━━━━━━━━━━━━\u001b[0m\u001b[37m\u001b[0m \u001b[1m0s\u001b[0m 4ms/step - accuracy: 0.6733 - loss: 1.0709 - val_accuracy: 0.7015 - val_loss: 0.9918\n",
      "Epoch 3/300\n",
      "\u001b[1m20/20\u001b[0m \u001b[32m━━━━━━━━━━━━━━━━━━━━\u001b[0m\u001b[37m\u001b[0m \u001b[1m0s\u001b[0m 4ms/step - accuracy: 0.6878 - loss: 0.9771 - val_accuracy: 0.7612 - val_loss: 0.9113\n",
      "Epoch 4/300\n",
      "\u001b[1m20/20\u001b[0m \u001b[32m━━━━━━━━━━━━━━━━━━━━\u001b[0m\u001b[37m\u001b[0m \u001b[1m0s\u001b[0m 4ms/step - accuracy: 0.7388 - loss: 0.9062 - val_accuracy: 0.7687 - val_loss: 0.8423\n",
      "Epoch 5/300\n",
      "\u001b[1m20/20\u001b[0m \u001b[32m━━━━━━━━━━━━━━━━━━━━\u001b[0m\u001b[37m\u001b[0m \u001b[1m0s\u001b[0m 4ms/step - accuracy: 0.7372 - loss: 0.8519 - val_accuracy: 0.8060 - val_loss: 0.7851\n",
      "Epoch 6/300\n",
      "\u001b[1m20/20\u001b[0m \u001b[32m━━━━━━━━━━━━━━━━━━━━\u001b[0m\u001b[37m\u001b[0m \u001b[1m0s\u001b[0m 4ms/step - accuracy: 0.7734 - loss: 0.7920 - val_accuracy: 0.8060 - val_loss: 0.7372\n",
      "Epoch 7/300\n",
      "\u001b[1m20/20\u001b[0m \u001b[32m━━━━━━━━━━━━━━━━━━━━\u001b[0m\u001b[37m\u001b[0m \u001b[1m0s\u001b[0m 4ms/step - accuracy: 0.7995 - loss: 0.7442 - val_accuracy: 0.8060 - val_loss: 0.7039\n",
      "Epoch 8/300\n",
      "\u001b[1m20/20\u001b[0m \u001b[32m━━━━━━━━━━━━━━━━━━━━\u001b[0m\u001b[37m\u001b[0m \u001b[1m0s\u001b[0m 4ms/step - accuracy: 0.7773 - loss: 0.7237 - val_accuracy: 0.8060 - val_loss: 0.6726\n",
      "Epoch 9/300\n",
      "\u001b[1m20/20\u001b[0m \u001b[32m━━━━━━━━━━━━━━━━━━━━\u001b[0m\u001b[37m\u001b[0m \u001b[1m0s\u001b[0m 4ms/step - accuracy: 0.7715 - loss: 0.6861 - val_accuracy: 0.8060 - val_loss: 0.6494\n",
      "Epoch 10/300\n",
      "\u001b[1m20/20\u001b[0m \u001b[32m━━━━━━━━━━━━━━━━━━━━\u001b[0m\u001b[37m\u001b[0m \u001b[1m0s\u001b[0m 4ms/step - accuracy: 0.7797 - loss: 0.6740 - val_accuracy: 0.8060 - val_loss: 0.6351\n",
      "Epoch 11/300\n",
      "\u001b[1m20/20\u001b[0m \u001b[32m━━━━━━━━━━━━━━━━━━━━\u001b[0m\u001b[37m\u001b[0m \u001b[1m0s\u001b[0m 4ms/step - accuracy: 0.7916 - loss: 0.6440 - val_accuracy: 0.8134 - val_loss: 0.6133\n",
      "Epoch 12/300\n",
      "\u001b[1m20/20\u001b[0m \u001b[32m━━━━━━━━━━━━━━━━━━━━\u001b[0m\u001b[37m\u001b[0m \u001b[1m0s\u001b[0m 4ms/step - accuracy: 0.7752 - loss: 0.6293 - val_accuracy: 0.7985 - val_loss: 0.6007\n",
      "Epoch 13/300\n",
      "\u001b[1m20/20\u001b[0m \u001b[32m━━━━━━━━━━━━━━━━━━━━\u001b[0m\u001b[37m\u001b[0m \u001b[1m0s\u001b[0m 4ms/step - accuracy: 0.7691 - loss: 0.6324 - val_accuracy: 0.8060 - val_loss: 0.5935\n",
      "Epoch 14/300\n",
      "\u001b[1m20/20\u001b[0m \u001b[32m━━━━━━━━━━━━━━━━━━━━\u001b[0m\u001b[37m\u001b[0m \u001b[1m0s\u001b[0m 4ms/step - accuracy: 0.7663 - loss: 0.6060 - val_accuracy: 0.7985 - val_loss: 0.5784\n",
      "Epoch 15/300\n",
      "\u001b[1m20/20\u001b[0m \u001b[32m━━━━━━━━━━━━━━━━━━━━\u001b[0m\u001b[37m\u001b[0m \u001b[1m0s\u001b[0m 4ms/step - accuracy: 0.7883 - loss: 0.5862 - val_accuracy: 0.7985 - val_loss: 0.5730\n",
      "Epoch 16/300\n",
      "\u001b[1m20/20\u001b[0m \u001b[32m━━━━━━━━━━━━━━━━━━━━\u001b[0m\u001b[37m\u001b[0m \u001b[1m0s\u001b[0m 4ms/step - accuracy: 0.7824 - loss: 0.5900 - val_accuracy: 0.7985 - val_loss: 0.5637\n",
      "Epoch 17/300\n",
      "\u001b[1m20/20\u001b[0m \u001b[32m━━━━━━━━━━━━━━━━━━━━\u001b[0m\u001b[37m\u001b[0m \u001b[1m0s\u001b[0m 4ms/step - accuracy: 0.7999 - loss: 0.5607 - val_accuracy: 0.8134 - val_loss: 0.5585\n",
      "Epoch 18/300\n",
      "\u001b[1m20/20\u001b[0m \u001b[32m━━━━━━━━━━━━━━━━━━━━\u001b[0m\u001b[37m\u001b[0m \u001b[1m0s\u001b[0m 4ms/step - accuracy: 0.7785 - loss: 0.5760 - val_accuracy: 0.7985 - val_loss: 0.5529\n",
      "Epoch 19/300\n",
      "\u001b[1m20/20\u001b[0m \u001b[32m━━━━━━━━━━━━━━━━━━━━\u001b[0m\u001b[37m\u001b[0m \u001b[1m0s\u001b[0m 4ms/step - accuracy: 0.7758 - loss: 0.5769 - val_accuracy: 0.8060 - val_loss: 0.5488\n",
      "Epoch 20/300\n",
      "\u001b[1m20/20\u001b[0m \u001b[32m━━━━━━━━━━━━━━━━━━━━\u001b[0m\u001b[37m\u001b[0m \u001b[1m0s\u001b[0m 4ms/step - accuracy: 0.8087 - loss: 0.5401 - val_accuracy: 0.8060 - val_loss: 0.5421\n",
      "Epoch 21/300\n",
      "\u001b[1m20/20\u001b[0m \u001b[32m━━━━━━━━━━━━━━━━━━━━\u001b[0m\u001b[37m\u001b[0m \u001b[1m0s\u001b[0m 6ms/step - accuracy: 0.7860 - loss: 0.5486 - val_accuracy: 0.8060 - val_loss: 0.5415\n",
      "Epoch 22/300\n",
      "\u001b[1m20/20\u001b[0m \u001b[32m━━━━━━━━━━━━━━━━━━━━\u001b[0m\u001b[37m\u001b[0m \u001b[1m0s\u001b[0m 4ms/step - accuracy: 0.7891 - loss: 0.5557 - val_accuracy: 0.8134 - val_loss: 0.5383\n",
      "Epoch 23/300\n",
      "\u001b[1m20/20\u001b[0m \u001b[32m━━━━━━━━━━━━━━━━━━━━\u001b[0m\u001b[37m\u001b[0m \u001b[1m0s\u001b[0m 4ms/step - accuracy: 0.7878 - loss: 0.5434 - val_accuracy: 0.8134 - val_loss: 0.5346\n",
      "Epoch 24/300\n",
      "\u001b[1m20/20\u001b[0m \u001b[32m━━━━━━━━━━━━━━━━━━━━\u001b[0m\u001b[37m\u001b[0m \u001b[1m0s\u001b[0m 4ms/step - accuracy: 0.7706 - loss: 0.5779 - val_accuracy: 0.8060 - val_loss: 0.5307\n",
      "Epoch 25/300\n",
      "\u001b[1m20/20\u001b[0m \u001b[32m━━━━━━━━━━━━━━━━━━━━\u001b[0m\u001b[37m\u001b[0m \u001b[1m0s\u001b[0m 4ms/step - accuracy: 0.7772 - loss: 0.5458 - val_accuracy: 0.8060 - val_loss: 0.5322\n",
      "Epoch 26/300\n",
      "\u001b[1m20/20\u001b[0m \u001b[32m━━━━━━━━━━━━━━━━━━━━\u001b[0m\u001b[37m\u001b[0m \u001b[1m0s\u001b[0m 4ms/step - accuracy: 0.8112 - loss: 0.5195 - val_accuracy: 0.7985 - val_loss: 0.5258\n",
      "Epoch 27/300\n",
      "\u001b[1m20/20\u001b[0m \u001b[32m━━━━━━━━━━━━━━━━━━━━\u001b[0m\u001b[37m\u001b[0m \u001b[1m0s\u001b[0m 4ms/step - accuracy: 0.7906 - loss: 0.5349 - val_accuracy: 0.7985 - val_loss: 0.5323\n",
      "Epoch 28/300\n",
      "\u001b[1m20/20\u001b[0m \u001b[32m━━━━━━━━━━━━━━━━━━━━\u001b[0m\u001b[37m\u001b[0m \u001b[1m0s\u001b[0m 4ms/step - accuracy: 0.7987 - loss: 0.5324 - val_accuracy: 0.8060 - val_loss: 0.5225\n",
      "Epoch 29/300\n",
      "\u001b[1m20/20\u001b[0m \u001b[32m━━━━━━━━━━━━━━━━━━━━\u001b[0m\u001b[37m\u001b[0m \u001b[1m0s\u001b[0m 4ms/step - accuracy: 0.7835 - loss: 0.5347 - val_accuracy: 0.8060 - val_loss: 0.5253\n",
      "Epoch 30/300\n",
      "\u001b[1m20/20\u001b[0m \u001b[32m━━━━━━━━━━━━━━━━━━━━\u001b[0m\u001b[37m\u001b[0m \u001b[1m0s\u001b[0m 4ms/step - accuracy: 0.8002 - loss: 0.5051 - val_accuracy: 0.8060 - val_loss: 0.5259\n",
      "Epoch 31/300\n",
      "\u001b[1m20/20\u001b[0m \u001b[32m━━━━━━━━━━━━━━━━━━━━\u001b[0m\u001b[37m\u001b[0m \u001b[1m0s\u001b[0m 4ms/step - accuracy: 0.7957 - loss: 0.5117 - val_accuracy: 0.8134 - val_loss: 0.5197\n",
      "Epoch 32/300\n",
      "\u001b[1m20/20\u001b[0m \u001b[32m━━━━━━━━━━━━━━━━━━━━\u001b[0m\u001b[37m\u001b[0m \u001b[1m0s\u001b[0m 4ms/step - accuracy: 0.7802 - loss: 0.5416 - val_accuracy: 0.8060 - val_loss: 0.5238\n",
      "Epoch 33/300\n",
      "\u001b[1m20/20\u001b[0m \u001b[32m━━━━━━━━━━━━━━━━━━━━\u001b[0m\u001b[37m\u001b[0m \u001b[1m0s\u001b[0m 4ms/step - accuracy: 0.7715 - loss: 0.5405 - val_accuracy: 0.8060 - val_loss: 0.5168\n",
      "Epoch 34/300\n",
      "\u001b[1m20/20\u001b[0m \u001b[32m━━━━━━━━━━━━━━━━━━━━\u001b[0m\u001b[37m\u001b[0m \u001b[1m0s\u001b[0m 4ms/step - accuracy: 0.7856 - loss: 0.5327 - val_accuracy: 0.8134 - val_loss: 0.5208\n",
      "Epoch 35/300\n",
      "\u001b[1m20/20\u001b[0m \u001b[32m━━━━━━━━━━━━━━━━━━━━\u001b[0m\u001b[37m\u001b[0m \u001b[1m0s\u001b[0m 4ms/step - accuracy: 0.7812 - loss: 0.5438 - val_accuracy: 0.8134 - val_loss: 0.5174\n",
      "Epoch 36/300\n",
      "\u001b[1m20/20\u001b[0m \u001b[32m━━━━━━━━━━━━━━━━━━━━\u001b[0m\u001b[37m\u001b[0m \u001b[1m0s\u001b[0m 4ms/step - accuracy: 0.8034 - loss: 0.5070 - val_accuracy: 0.8134 - val_loss: 0.5180\n",
      "Epoch 37/300\n",
      "\u001b[1m20/20\u001b[0m \u001b[32m━━━━━━━━━━━━━━━━━━━━\u001b[0m\u001b[37m\u001b[0m \u001b[1m0s\u001b[0m 4ms/step - accuracy: 0.7887 - loss: 0.5237 - val_accuracy: 0.8134 - val_loss: 0.5154\n",
      "Epoch 38/300\n",
      "\u001b[1m20/20\u001b[0m \u001b[32m━━━━━━━━━━━━━━━━━━━━\u001b[0m\u001b[37m\u001b[0m \u001b[1m0s\u001b[0m 4ms/step - accuracy: 0.7947 - loss: 0.5213 - val_accuracy: 0.8134 - val_loss: 0.5142\n",
      "Epoch 39/300\n",
      "\u001b[1m20/20\u001b[0m \u001b[32m━━━━━━━━━━━━━━━━━━━━\u001b[0m\u001b[37m\u001b[0m \u001b[1m0s\u001b[0m 4ms/step - accuracy: 0.7907 - loss: 0.5236 - val_accuracy: 0.8134 - val_loss: 0.5163\n",
      "Epoch 40/300\n",
      "\u001b[1m20/20\u001b[0m \u001b[32m━━━━━━━━━━━━━━━━━━━━\u001b[0m\u001b[37m\u001b[0m \u001b[1m0s\u001b[0m 4ms/step - accuracy: 0.8107 - loss: 0.5068 - val_accuracy: 0.8060 - val_loss: 0.5167\n",
      "Epoch 41/300\n",
      "\u001b[1m20/20\u001b[0m \u001b[32m━━━━━━━━━━━━━━━━━━━━\u001b[0m\u001b[37m\u001b[0m \u001b[1m0s\u001b[0m 4ms/step - accuracy: 0.8036 - loss: 0.5158 - val_accuracy: 0.8134 - val_loss: 0.5121\n",
      "Epoch 42/300\n"
     ]
    }
   ],
   "source": [
    "early_stop = EarlyStopping(monitor='val_loss', patience=30, restore_best_weights=True)\n",
    "\n",
    "history = model.fit(\n",
    "    X_train, y_train,\n",
    "    validation_data=(X_val, y_val),\n",
    "    epochs=300,\n",
    "    batch_size=32,\n",
    "    callbacks=[early_stop],\n",
    "    verbose=1\n",
    ")"
   ]
  },
  {
   "cell_type": "code",
   "execution_count": null,
   "id": "6ced3e89",
   "metadata": {},
   "outputs": [],
   "source": [
    "##Plots\n",
    "plt.figure(figsize=(14, 5))\n",
    "plt.subplot(1, 2, 1)\n",
    "plt.plot(history.history['loss'], label='Treinamento')\n",
    "plt.plot(history.history['val_loss'], label='Validação')\n",
    "plt.title(\"Perda\")\n",
    "plt.xlabel(\"Épocas\")\n",
    "plt.ylabel(\"Loss\")\n",
    "plt.legend()\n",
    "\n",
    "plt.subplot(1, 2, 2)\n",
    "plt.plot(history.history['accuracy'], label='Treinamento')\n",
    "plt.plot(history.history['val_accuracy'], label='Validação')\n",
    "plt.title(\"Acurácia\")\n",
    "plt.xlabel(\"Épocas\")\n",
    "plt.ylabel(\"Accuracy\")\n",
    "plt.legend()\n",
    "plt.tight_layout()\n",
    "plt.show()"
   ]
  },
  {
   "cell_type": "code",
   "execution_count": null,
   "id": "835229b2",
   "metadata": {},
   "outputs": [],
   "source": [
    "##Avaliação\n",
    "y_pred_probs = model.predict(X_test).ravel()\n",
    "y_pred = (y_pred_probs > 0.5).astype(int)\n",
    "\n",
    "print(\"Relatório de Classificação:\")\n",
    "print(classification_report(y_test, y_pred))\n",
    "\n",
    "print(\"Matriz de Confusão:\")\n",
    "print(confusion_matrix(y_test, y_pred))\n",
    "\n",
    "fpr, tpr, _ = roc_curve(y_test, y_pred_probs)\n",
    "roc_auc = auc(fpr, tpr)\n",
    "\n",
    "plt.figure()\n",
    "plt.plot(fpr, tpr, label=f'ROC curve (AUC = {roc_auc:.2f})')\n",
    "plt.plot([0, 1], [0, 1], linestyle='--')\n",
    "plt.xlabel(\"FPR\")\n",
    "plt.ylabel(\"TPR\")\n",
    "plt.title(\"Curva ROC\")\n",
    "plt.legend(loc=\"lower right\")\n",
    "plt.grid()\n",
    "plt.show()"
   ]
  },
  {
   "cell_type": "markdown",
   "id": "16bd2fda-fa59-4b23-ba11-efee73329435",
   "metadata": {},
   "source": [
    "# 6. Análise de erro"
   ]
  },
  {
   "cell_type": "code",
   "execution_count": null,
   "id": "307fde75-8e38-4cd4-9049-390afae54d8e",
   "metadata": {},
   "outputs": [],
   "source": [
    "#@Juntar com a coluna Pclass (que vem da versão original dos dados)\n",
    "df_result = pd.DataFrame({\n",
    "    'Pclass': df_test_raw['Pclass'].values,\n",
    "    'y_true': y_test,\n",
    "    'y_pred': y_pred\n",
    "})\n",
    "##Calcular acurácia por Pclass\n",
    "acc_by_class = df_result.groupby('Pclass').apply(\n",
    "    lambda g: accuracy_score(g['y_true'], g['y_pred'])\n",
    ").reset_index(name='accuracy')\n",
    "\n",
    "##Plot\n",
    "sns.set(style=\"whitegrid\")\n",
    "plt.figure(figsize=(8, 5))\n",
    "ax = sns.barplot(data=acc_by_class, x='Pclass', y='accuracy', palette='viridis')\n",
    "\n",
    "#Adicionar porcentagens no topo das barras\n",
    "for i, row in acc_by_class.iterrows():\n",
    "    acc_percent = f\"{row['accuracy']*100:.1f}%\"\n",
    "    ax.text(i, row['accuracy'] + 0.02, acc_percent, ha='center', va='bottom', fontsize=11, fontweight='bold')\n",
    "\n",
    "plt.title('Acurácia por Classe (Pclass)', fontsize=14)\n",
    "plt.xlabel('Classe do Passageiro (Pclass)', fontsize=12)\n",
    "plt.ylabel('Acurácia', fontsize=12)\n",
    "plt.ylim(0, 1.1)  # Deixar espaço para o texto acima das barras\n",
    "plt.tight_layout()\n",
    "plt.show()"
   ]
  },
  {
   "cell_type": "code",
   "execution_count": null,
   "id": "2a878612-8d50-4f64-a476-6c69fb9aa2b3",
   "metadata": {},
   "outputs": [],
   "source": [
    "def check_accuracy(coluna):\n",
    "    df_result = pd.DataFrame({\n",
    "        coluna: df_test_raw[coluna].values,\n",
    "        'y_true': y_test,\n",
    "        'y_pred': y_pred\n",
    "    })\n",
    "    \n",
    "    ##Calcular acurácia por sexo\n",
    "    acc_by_sex = df_result.groupby(coluna).apply(\n",
    "        lambda g: accuracy_score(g['y_true'], g['y_pred'])\n",
    "    ).reset_index(name='accuracy')\n",
    "    \n",
    "    ##Plot\n",
    "    sns.set(style=\"whitegrid\")\n",
    "    plt.figure(figsize=(8, 5))\n",
    "    ax = sns.barplot(data=acc_by_sex, x=coluna, y='accuracy', palette='magma')\n",
    "    \n",
    "    #Adicionar porcentagens no topo das barras\n",
    "    for i, row in acc_by_sex.iterrows():\n",
    "        acc_percent = f\"{row['accuracy']*100:.1f}%\"\n",
    "        ax.text(i, row['accuracy'] + 0.02, acc_percent, ha='center', va='bottom', fontsize=11, fontweight='bold')\n",
    "    \n",
    "    plt.title(f'Acurácia por {coluna}', fontsize=14)\n",
    "    plt.xlabel(coluna, fontsize=12)\n",
    "    plt.ylabel('Acurácia', fontsize=12)\n",
    "    plt.ylim(0, 1.1)\n",
    "    plt.tight_layout()\n",
    "    plt.show()"
   ]
  },
  {
   "cell_type": "code",
   "execution_count": null,
   "id": "eb01e1d1-66d7-44ad-b868-66c5f3268c24",
   "metadata": {},
   "outputs": [],
   "source": [
    "check_accuracy('Sex')"
   ]
  },
  {
   "cell_type": "code",
   "execution_count": null,
   "id": "59a1c791-9fba-4f46-95dc-15e074df4850",
   "metadata": {},
   "outputs": [],
   "source": [
    "columns"
   ]
  },
  {
   "cell_type": "code",
   "execution_count": null,
   "id": "7ff01807-dfae-41fb-a52e-c215593b5950",
   "metadata": {},
   "outputs": [],
   "source": [
    "check_accuracy('Embarked_C')"
   ]
  },
  {
   "cell_type": "code",
   "execution_count": null,
   "id": "0f7a9d6f-fd4e-4769-8900-88fab0bf79e9",
   "metadata": {},
   "outputs": [],
   "source": [
    "check_accuracy('Embarked_S')"
   ]
  },
  {
   "cell_type": "code",
   "execution_count": null,
   "id": "9f8bbf59-e0c6-47f7-b757-8239a9107419",
   "metadata": {},
   "outputs": [],
   "source": [
    "check_accuracy('Embarked_Q')"
   ]
  },
  {
   "cell_type": "code",
   "execution_count": null,
   "id": "9348b2c2-a80c-45ab-b307-7f35ce7b8ffa",
   "metadata": {},
   "outputs": [],
   "source": [
    "check_accuracy('Name_Mrs')"
   ]
  },
  {
   "cell_type": "code",
   "execution_count": null,
   "id": "e329dfa0-abef-4eb2-9a0b-6d35d6ebf7e3",
   "metadata": {},
   "outputs": [],
   "source": [
    "check_accuracy('Name_Mr')"
   ]
  },
  {
   "cell_type": "code",
   "execution_count": null,
   "id": "a537c719-326d-460a-b74f-70e764a0e960",
   "metadata": {},
   "outputs": [],
   "source": [
    "check_accuracy('Name_Miss')"
   ]
  },
  {
   "cell_type": "code",
   "execution_count": null,
   "id": "4bf5dbf2-038c-475d-845c-1ddb96c6db8d",
   "metadata": {},
   "outputs": [],
   "source": [
    "check_accuracy('Cabin_Multiple')"
   ]
  },
  {
   "cell_type": "code",
   "execution_count": null,
   "id": "1f4f3012-6a96-4f9b-ba1d-1e81e79b58fb",
   "metadata": {},
   "outputs": [],
   "source": []
  },
  {
   "cell_type": "code",
   "execution_count": null,
   "id": "b1dd3eda-f656-439e-8815-5446f1f1e950",
   "metadata": {},
   "outputs": [],
   "source": [
    "check_accuracy('SibSp')"
   ]
  },
  {
   "cell_type": "code",
   "execution_count": null,
   "id": "2bcbb26e-30dd-4de6-95b3-20367245b762",
   "metadata": {},
   "outputs": [],
   "source": [
    "check_accuracy('Parch')"
   ]
  },
  {
   "cell_type": "code",
   "execution_count": null,
   "id": "ff3200d1-f333-493d-9b19-f49acacad5db",
   "metadata": {},
   "outputs": [],
   "source": [
    "df_raw_train['Pclass'].value_counts()"
   ]
  },
  {
   "cell_type": "code",
   "execution_count": null,
   "id": "b0a19f44-b894-4c1e-ac65-e71610f1b8d5",
   "metadata": {},
   "outputs": [],
   "source": [
    "pd.crosstab(df_raw_train['Cabin_Multiple'], y_train, normalize='index')\n"
   ]
  },
  {
   "cell_type": "markdown",
   "id": "982869f0",
   "metadata": {},
   "source": [
    "# Avaliação em dados de teste fictícios"
   ]
  },
  {
   "cell_type": "code",
   "execution_count": null,
   "id": "6cbe6739",
   "metadata": {},
   "outputs": [],
   "source": [
    "## Carregando os dados\n",
    "df_test = pd.read_csv(\"data/test_fake.csv\")"
   ]
  },
  {
   "cell_type": "markdown",
   "id": "2897e4a6",
   "metadata": {},
   "source": [
    "Index(['Pclass', 'Age', 'Parch', 'SibSp', 'Fare', 'Cabin_Multiple', 'Sex',\n",
    "       'Name_Master', 'Name_Miss', 'Name_Mr', 'Name_Mrs', 'Embarked_C',\n",
    "       'Embarked_S', 'Embarked_Q', 'Cabin_Pref_B', 'Cabin_Pref_C',\n",
    "       'Cabin_Pref_D', 'Cabin_Pref_E', 'Cabin_Pref_n', 'Prefix_Ticket_PC'],\n",
    "      dtype='object')"
   ]
  },
  {
   "cell_type": "code",
   "execution_count": null,
   "id": "4a57f7d2",
   "metadata": {},
   "outputs": [],
   "source": [
    "df_test.drop(columns=['PassengerId'], inplace=True)"
   ]
  },
  {
   "cell_type": "code",
   "execution_count": null,
   "id": "c17aea4b",
   "metadata": {},
   "outputs": [],
   "source": [
    "df_test"
   ]
  },
  {
   "cell_type": "code",
   "execution_count": null,
   "id": "e14e4146",
   "metadata": {},
   "outputs": [],
   "source": [
    "# Cabin_Multiple: se houver mais de uma cabine listada\n",
    "df_test['Cabin_Multiple'] = df_test['Cabin'].apply(lambda x: 1 if pd.notna(x) and ' ' in str(x) else 0)\n",
    "\n",
    "# Título (prefixo do nome)\n",
    "df_test['Title'] = df_test['Name'].str.extract(r',\\s*([^\\.]*)\\.', expand=False)\n",
    "\n",
    "# One-hot titles\n",
    "df_test['Name_Miss'] = (df_test['Title'] == 'Miss').astype(int)\n",
    "df_test['Name_Mr'] = (df_test['Title'] == 'Mr').astype(int)\n",
    "df_test['Name_Mrs'] = (df_test['Title'] == 'Mrs').astype(int)\n",
    "\n",
    "# One-hot encoding de Embarked\n",
    "embarked_dummies = pd.get_dummies(df_test['Embarked'], prefix='Embarked')\n",
    "for col in ['Embarked_C', 'Embarked_S', 'Embarked_Q']:\n",
    "    df_test[col] = embarked_dummies.get(col, pd.Series(0, index=df_test.index))\n",
    "\n",
    "# Cabin prefix (primeira letra da cabine)\n",
    "df_test['Cabin_Pref'] = df_test['Cabin'].astype(str).str[0]\n",
    "cabin_dummies = pd.get_dummies(df_test['Cabin_Pref'], prefix='Cabin_Pref')\n",
    "for col in ['B', 'C', 'D', 'E', 'n']:\n",
    "    df_test[f'Cabin_Pref_{col}'] = cabin_dummies.get(f'Cabin_Pref_{col}', pd.Series(0, index=df_test.index))\n",
    "\n",
    "# Prefix_Ticket_PC\n",
    "df_test['Prefix_Ticket_PC'] = df_test['Ticket'].astype(str).str.startswith('PC').astype(int)\n",
    "\n",
    "# Converter sexo para numérico\n",
    "df_test['Sex'] = df_test['Sex'].map({'male': 0, 'female': 1})\n",
    "\n",
    "# Converte todas as colunas booleanas para int\n",
    "bool_cols = df_test.select_dtypes(include='bool').columns\n",
    "df_test[bool_cols] = df_test[bool_cols].astype(int)\n",
    "\n",
    "# Define colunas finais de entrada (mantém Survived separada)\n",
    "final_features = [\n",
    "    'Pclass', 'Age', 'Parch', 'SibSp', 'Fare', 'Cabin_Multiple', 'Sex',\n",
    "    'Name_Mr', 'Name_Miss', 'Name_Mrs',\n",
    "    'Embarked_C', 'Embarked_S', 'Embarked_Q',\n",
    "]\n",
    "\n",
    "# Garante que apenas essas colunas + Survived permaneçam\n",
    "cols_to_keep = final_features + ['Survived']\n",
    "df_test = df_test[cols_to_keep].copy()\n"
   ]
  },
  {
   "cell_type": "code",
   "execution_count": null,
   "id": "a980b89e",
   "metadata": {},
   "outputs": [],
   "source": [
    "df_test"
   ]
  },
  {
   "cell_type": "code",
   "execution_count": null,
   "id": "690fb13b",
   "metadata": {},
   "outputs": [],
   "source": [
    "X_test = df_test.drop(columns=['Survived'])\n",
    "y_test = df_test['Survived']\n",
    "\n",
    "# Previsão dos dados de teste\n",
    "y_pred_probs = model.predict(X_test).ravel()\n",
    "y_pred = (y_pred_probs > 0.5).astype(int)\n",
    "\n",
    "# Relatório\n",
    "print(\"Relatório de Classificação:\")\n",
    "print(classification_report(y_test, y_pred))\n",
    "\n",
    "# Matriz de confusão\n",
    "cm = confusion_matrix(y_test, y_pred)\n",
    "print(\"Matriz de Confusão:\")\n",
    "print(cm)\n",
    "\n",
    "# Plotando a matriz de confusão como imagem .png\n",
    "plt.figure(figsize=(6, 4))\n",
    "sns.heatmap(cm, annot=True, fmt='d', cmap='Blues', cbar=False,\n",
    "            xticklabels=['Não Sobreviveu', 'Sobreviveu'],\n",
    "            yticklabels=['Não Sobreviveu', 'Sobreviveu'])\n",
    "plt.xlabel('Predito')\n",
    "plt.ylabel('Verdadeiro')\n",
    "plt.title('Matriz de Confusão')\n",
    "plt.tight_layout()\n",
    "plt.savefig('matriz_confusao.png')  # Salva como imagem .png\n",
    "plt.show()"
   ]
  },
  {
   "cell_type": "markdown",
   "id": "7f9549fa",
   "metadata": {},
   "source": [
    "# Avaliação do Conjunto de Teste sem GroundTruth"
   ]
  },
  {
   "cell_type": "code",
   "execution_count": null,
   "id": "9c0098b2",
   "metadata": {},
   "outputs": [],
   "source": [
    "# Carregar o arquivo\n",
    "df_kaggle_test = pd.read_csv(\"data/test.csv\")\n",
    "\n",
    "# Cabin_Multiple\n",
    "df_kaggle_test['Cabin_Multiple'] = df_kaggle_test['Cabin'].apply(lambda x: 1 if pd.notna(x) and ' ' in str(x) else 0)\n",
    "\n",
    "# Extrair título\n",
    "df_kaggle_test['Title'] = df_kaggle_test['Name'].str.extract(r',\\s*([^\\.]*)\\.', expand=False)\n",
    "df_kaggle_test['Name_Miss'] = (df_kaggle_test['Title'] == 'Miss').astype(int)\n",
    "df_kaggle_test['Name_Mr'] = (df_kaggle_test['Title'] == 'Mr').astype(int)\n",
    "df_kaggle_test['Name_Mrs'] = (df_kaggle_test['Title'] == 'Mrs').astype(int)\n",
    "\n",
    "# One-hot Embarked\n",
    "embarked_dummies = pd.get_dummies(df_kaggle_test['Embarked'], prefix='Embarked')\n",
    "for col in ['Embarked_C', 'Embarked_S', 'Embarked_Q']:\n",
    "    df_kaggle_test[col] = embarked_dummies.get(col, pd.Series(0, index=df_kaggle_test.index))\n",
    "\n",
    "\n",
    "\n",
    "# Converter 'Sex' para numérico\n",
    "df_kaggle_test['Sex'] = df_kaggle_test['Sex'].map({'male': 0, 'female': 1})\n",
    "\n",
    "# Corrigir valores booleanos\n",
    "bool_cols = df_kaggle_test.select_dtypes(include='bool').columns\n",
    "df_kaggle_test[bool_cols] = df_kaggle_test[bool_cols].astype(int)\n",
    "\n",
    "# Tratar valores ausentes (Age, Fare podem estar ausentes)\n",
    "df_kaggle_test['Age'] = df_kaggle_test['Age'].fillna(df_kaggle_test['Age'].median())\n",
    "df_kaggle_test['Fare'] = df_kaggle_test['Fare'].fillna(df_kaggle_test['Fare'].median())\n",
    "\n",
    "# Selecionar apenas as colunas de features\n",
    "final_features = [\n",
    "    'Pclass', 'Age', 'Parch', 'SibSp', 'Fare', 'Cabin_Multiple', 'Sex', 'Name_Miss', 'Name_Mr', 'Name_Mrs',\n",
    "    'Embarked_C', 'Embarked_S', 'Embarked_Q',\n",
    "]\n",
    "\n",
    "X_kaggle_test = df_kaggle_test[final_features]"
   ]
  },
  {
   "cell_type": "code",
   "execution_count": null,
   "id": "10d9d76c",
   "metadata": {},
   "outputs": [],
   "source": [
    "# Previsões\n",
    "y_pred_probs = model.predict(X_kaggle_test).ravel()\n",
    "y_pred = (y_pred_probs > 0.5).astype(int)\n",
    "\n",
    "# Criar CSV com os resultados\n",
    "submission = pd.DataFrame({\n",
    "    'PassengerId': df_kaggle_test['PassengerId'],\n",
    "    'Survived': y_pred\n",
    "})\n",
    "\n",
    "# Salvar\n",
    "submission.to_csv('data/submission.csv', index=False)"
   ]
  },
  {
   "cell_type": "code",
   "execution_count": null,
   "id": "1d2efd94-7689-4de5-9ba7-bfca33e942dd",
   "metadata": {},
   "outputs": [],
   "source": []
  }
 ],
 "metadata": {
  "kernelspec": {
   "display_name": "Python 3 (ipykernel)",
   "language": "python",
   "name": "python3"
  },
  "language_info": {
   "codemirror_mode": {
    "name": "ipython",
    "version": 3
   },
   "file_extension": ".py",
   "mimetype": "text/x-python",
   "name": "python",
   "nbconvert_exporter": "python",
   "pygments_lexer": "ipython3",
   "version": "3.12.9"
  }
 },
 "nbformat": 4,
 "nbformat_minor": 5
}
